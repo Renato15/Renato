{
 "cells": [
  {
   "cell_type": "markdown",
   "metadata": {},
   "source": [
    "<br>\n",
    "\n",
    "## <center>**Tutorial de Markdown para RStudio**</center>\n",
    "<hr style=\"height:8px;background-color:blue\">\n",
    "\n"
   ]
  },
  {
   "cell_type": "markdown",
   "metadata": {},
   "source": [
    "> Con el siguiente tutorial se busca ejemplificar el manejo y la utilización de Markdown desde RStudio.\n",
    "A continuación, miremos el paso a paso."
   ]
  },
  {
   "cell_type": "markdown",
   "metadata": {},
   "source": [
    "<br>\n",
    "\n",
    "Primer paso, abrir RStudio ![alt text](Captura.png)\n"
   ]
  },
  {
   "cell_type": "markdown",
   "metadata": {},
   "source": [
    "![alt text](Selección.png \"Vista desde RStudio\")"
   ]
  },
  {
   "cell_type": "markdown",
   "metadata": {},
   "source": [
    "<br>\n",
    "\n",
    "Segundo paso, seleccionar R Markdown desde RStudio\n",
    "\n",
    "<br>\n",
    "\n",
    "<img src=\"markdown.png\" alt=\"alt face\" height=\"500\" width=\"500\">\n"
   ]
  },
  {
   "cell_type": "markdown",
   "metadata": {},
   "source": [
    "En la anterior imagén, seleccionas Document y posteriormente en el campo Title: el título del documento y en el campo Author: el nombre personalizado que le desees nombrar\n",
    "<br>\n",
    "Selecciona luego el formato deseado, para este caso PDF y luego clic en OK"
   ]
  },
  {
   "cell_type": "code",
   "execution_count": null,
   "metadata": {
    "collapsed": true
   },
   "outputs": [],
   "source": [
    "En el tercer paso, en la consola de RStudio "
   ]
  },
  {
   "cell_type": "code",
   "execution_count": null,
   "metadata": {
    "collapsed": true
   },
   "outputs": [],
   "source": []
  }
 ],
 "metadata": {
  "kernelspec": {
   "display_name": "R",
   "language": "R",
   "name": "ir"
  },
  "language_info": {
   "codemirror_mode": "r",
   "file_extension": ".r",
   "mimetype": "text/x-r-source",
   "name": "R",
   "pygments_lexer": "r",
   "version": "3.2.3"
  }
 },
 "nbformat": 4,
 "nbformat_minor": 0
}
